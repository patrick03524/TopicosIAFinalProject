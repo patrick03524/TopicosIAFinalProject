{
  "nbformat": 4,
  "nbformat_minor": 0,
  "metadata": {
    "colab": {
      "name": "Convolutional Neural Network using my own data.ipynb",
      "provenance": [],
      "collapsed_sections": []
    },
    "kernelspec": {
      "name": "python3",
      "display_name": "Python 3"
    },
    "language_info": {
      "name": "python"
    },
    "accelerator": "GPU"
  },
  "cells": [
    {
      "cell_type": "code",
      "execution_count": 1,
      "metadata": {
        "id": "iMF-LqKd0c2j"
      },
      "outputs": [],
      "source": [
        "# Clasificación de imágenes uitilizando redes neuronales convolucionales.\n",
        "# Librerías Necesarias\n",
        "import numpy as np\n",
        "import tensorflow as tf\n",
        "from tensorflow.keras.utils import to_categorical\n",
        "from tensorflow.keras.preprocessing.image import ImageDataGenerator\n",
        "from PIL import Image\n",
        "import matplotlib.pyplot as plt\n",
        "import math"
      ]
    },
    {
      "cell_type": "code",
      "source": [
        "# Parámetros de los Datos\n",
        "PIXEL_SIZE = 255\n",
        "filas = 2\n",
        "columnas = 8\n",
        "MATRIX_SIZE = filas * columnas\n",
        "IMG_SIZE = 28\n",
        "BATCH_SIZE = 32\n",
        "NUM_EPOCHS = 100\n",
        "TRAIN_SIZE = 1000\n",
        "TEST_SIZE = 10"
      ],
      "metadata": {
        "id": "a1qV8F-K5lDq"
      },
      "execution_count": 3,
      "outputs": []
    },
    {
      "cell_type": "code",
      "source": [
        "# Configuración para mi Data Augmentation utilizando ImageDataGenerator de Keras\n",
        "rango_rotacion = 30\n",
        "rango_ancho = 0.25\n",
        "rango_alto = 0.25\n",
        "rango_inclinacion = 15\n",
        "rango_brillo = (50, 1)\n",
        "rango_acercamiento=[0.5,1.5]\n",
        "rango_alejamentos=[1.5,0.5]"
      ],
      "metadata": {
        "id": "6R4M6To248h5"
      },
      "execution_count": 4,
      "outputs": []
    },
    {
      "cell_type": "code",
      "source": [
        "# Recibir los pixeles y extraer las características y clasificar con capas regulares\n",
        "# Cargar los datos de MNIST\n",
        "#(X_train, Y_train), (x_test, y_test) = mnist.load_data()\n",
        "ruta = \"/content/drive/MyDrive/Colab Notebooks/Topicos-en-IA-2021-2/Dataset\"\n",
        "ruta_test = \"/content/drive/MyDrive/Colab Notebooks/Topicos-en-IA-2021-2/Test\"\n",
        "\n",
        "data_gen_entrenamiento = ImageDataGenerator(\n",
        "    rotation_range=rango_rotacion,\n",
        "    width_shift_range=rango_ancho,\n",
        "    height_shift_range=rango_alto,\n",
        "    brightness_range=rango_brillo,\n",
        "    shear_range=rango_inclinacion,\n",
        "    zoom_range=rango_acercamiento\n",
        ")\n",
        "\n",
        "data_gen_prueba = ImageDataGenerator(\n",
        "    rescale=1. / 255\n",
        ")\n",
        "\n",
        "training_data_gen = data_gen_entrenamiento.flow_from_directory(\n",
        "    ruta,\n",
        "    target_size = (IMG_SIZE, IMG_SIZE),\n",
        "    batch_size = BATCH_SIZE,\n",
        "    class_mode = 'categorical' #[0,1,2,3,4,5,6,7,8,9]\n",
        ")\n",
        "\n",
        "validation_data_gen = data_gen_prueba.flow_from_directory(\n",
        "    ruta_test,\n",
        "    target_size = (IMG_SIZE, IMG_SIZE),\n",
        "    batch_size = BATCH_SIZE,\n",
        "    class_mode = 'categorical' #[0,1,2,3,4,5,6,7,8,9]\n",
        ")"
      ],
      "metadata": {
        "colab": {
          "base_uri": "https://localhost:8080/"
        },
        "id": "IVAKrhGq0so2",
        "outputId": "22ddbb69-fa49-40dd-c0f2-6af88c488f57"
      },
      "execution_count": 5,
      "outputs": [
        {
          "output_type": "stream",
          "name": "stdout",
          "text": [
            "Found 1000 images belonging to 10 classes.\n",
            "Found 100 images belonging to 10 classes.\n"
          ]
        }
      ]
    },
    {
      "cell_type": "code",
      "source": [
        "# Definición del Modelo\n",
        "modelo = tf.keras.models.Sequential([\n",
        "                                     # Capa de Convolución de 32 filtros\n",
        "                                     tf.keras.layers.Conv2D(32, (3,3), activation='relu', input_shape=(28,28,1)), \n",
        "                                     # Capa de agrupación máxima\n",
        "                                     tf.keras.layers.MaxPooling2D(2,2),\n",
        "                                     # Capa de Convolución de 64 filtros porque aumentará el tamaño de filtros\n",
        "                                     tf.keras.layers.Conv2D(64, (3,3), activation='relu'),\n",
        "                                     # Capa de agrupación máxima\n",
        "                                     tf.keras.layers.MaxPooling2D(2,2),\n",
        "                                     # Capa para hacer dropout para aumentar la velocidad y reducir la cantidad de info que no proporcione información relevante           \n",
        "                                     tf.keras.layers.Dropout(0.5),\n",
        "                                     # Capa para vectorizar todo dentro de un vector simple\n",
        "                                     tf.keras.layers.Flatten(),\n",
        "                                     # Capa densa oculta para agrupación\n",
        "                                     tf.keras.layers.Dense(100, activation='relu'),\n",
        "                                     # Capa densa de salida(0-9) para mostrar el resultado\n",
        "                                     tf.keras.layers.Dense(10, activation=\"softmax\")\n",
        "                                     ])\n",
        "modelo"
      ],
      "metadata": {
        "colab": {
          "base_uri": "https://localhost:8080/"
        },
        "id": "7gqMf-RrDJG0",
        "outputId": "b195aa27-d9e6-4847-bf12-4a7c4883a364"
      },
      "execution_count": 6,
      "outputs": [
        {
          "output_type": "execute_result",
          "data": {
            "text/plain": [
              "<keras.engine.sequential.Sequential at 0x7f5b7ec2c190>"
            ]
          },
          "metadata": {},
          "execution_count": 6
        }
      ]
    },
    {
      "cell_type": "code",
      "source": [
        "# Definición del optimizador, función de pérdida y la métrica\n",
        "modelo.compile(optimizer='adam',\n",
        "               loss='categorical_crossentropy',\n",
        "               metrics=['accuracy'])"
      ],
      "metadata": {
        "id": "qJk4I6MxDRT2"
      },
      "execution_count": 7,
      "outputs": []
    },
    {
      "cell_type": "code",
      "source": [
        "# Entrenamiento del Modelo\n",
        "print(\"ENTRENANDO EL MODELO...\")\n",
        "training = modelo.fit(\n",
        "    data_gen_entrenamiento,\n",
        "    epochs = NUM_EPOCHS,\n",
        "    batch_size = BATCH_SIZE,\n",
        "    validation_data=validation_data_gen,\n",
        "    steps_per_epoch=int(np.ceil(TRAIN_SIZE / float(BATCH_SIZE))), #1000/32=31\n",
        "    validation_steps=int(np.ceil(TEST_SIZE / float(BATCH_SIZE))) #100/32=3\n",
        ")\n",
        "print(\"MODELO ENTRENADO CON ÉXITO!\")"
      ],
      "metadata": {
        "id": "PKt46CVCDTMj"
      },
      "execution_count": null,
      "outputs": []
    },
    {
      "cell_type": "code",
      "source": [
        "!pip install tensorflowjs"
      ],
      "metadata": {
        "id": "Iy2nEOvjDVbJ"
      },
      "execution_count": null,
      "outputs": []
    },
    {
      "cell_type": "code",
      "source": [
        "!mkdir resultados"
      ],
      "metadata": {
        "id": "Ci4-qybgDW_a"
      },
      "execution_count": null,
      "outputs": []
    },
    {
      "cell_type": "code",
      "source": [
        "# Exportar el modelo\n",
        "modelo.save('cnn_model_conv_da_d_100_epoch.h5')\n",
        "!tensorflowjs_converter --input_format keras cnn_model_conv_da_d_100_epoch.h5 resultados"
      ],
      "metadata": {
        "id": "UUy70a29DX9r"
      },
      "execution_count": null,
      "outputs": []
    },
    {
      "cell_type": "code",
      "source": [
        "!ls -ls "
      ],
      "metadata": {
        "id": "XIyofJzhDYuN"
      },
      "execution_count": null,
      "outputs": []
    },
    {
      "cell_type": "code",
      "source": [
        "from keras.preprocessing.image import load_img, img_to_array\n",
        "from keras.models import load_model\n",
        "import cv2\n",
        "\n",
        "def prediccion(file):\n",
        "  #image = load_img(file, target_size=(28,28))\n",
        "  image =  img_to_array(file)\n",
        "  image = np.expand_dims(image,axis=0)\n",
        "  array = modelo.predict(image)\n",
        "  result = array[0]\n",
        "  option = np.argmax(result)\n",
        "  print(\"Esa imagen es el numero: \", option)\n",
        "  return option"
      ],
      "metadata": {
        "id": "ppgd7rr1DZ4h"
      },
      "execution_count": null,
      "outputs": []
    },
    {
      "cell_type": "code",
      "source": [
        "fig = plt.figure(figsize=(28, 28))\n",
        "columns = 10\n",
        "rows = 1\n",
        "my_imgs=[\"0.png\",\"1.png\",\"2.png\",\"3.png\",\"4.png\",\"5.png\",\"6.png\",\"7.png\",\"8.png\",\"9.png\"]\n",
        "for i in range(1, columns*rows +1):\n",
        "    img = cv2.imread(my_imgs[i-1], cv2.IMREAD_GRAYSCALE)\n",
        "    fig.add_subplot(rows, columns, i)\n",
        "    plt.imshow(img)\n",
        "plt.show()"
      ],
      "metadata": {
        "id": "pXmDG-rKDemL"
      },
      "execution_count": null,
      "outputs": []
    },
    {
      "cell_type": "code",
      "source": [
        "rate = 0\n",
        "for i in range(9):\n",
        "  print(\"Imagen: \", i+1)\n",
        "  ruta = str(i+1) + \".png\"\n",
        "  image = cv2.imread(ruta, cv2.IMREAD_GRAYSCALE)\n",
        "  pred = prediccion(image)\n",
        "  if(i == pred):\n",
        "    rate = rate + 1\n",
        "  print(pred)\n",
        "print(\"El porcentaje el modelo con las imagenes de prueba es del\", rate*10,\"%\")"
      ],
      "metadata": {
        "id": "87jDNAOyDbLu"
      },
      "execution_count": null,
      "outputs": []
    }
  ]
}